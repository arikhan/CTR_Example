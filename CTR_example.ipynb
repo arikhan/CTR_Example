{
 "cells": [
  {
   "cell_type": "markdown",
   "metadata": {},
   "source": [
    "# Click-Through Rate Example"
   ]
  },
  {
   "cell_type": "code",
   "execution_count": 1,
   "metadata": {},
   "outputs": [
    {
     "data": {
      "text/plain": [
       "100836"
      ]
     },
     "execution_count": 1,
     "metadata": {},
     "output_type": "execute_result"
    }
   ],
   "source": [
    "# import pyspark class Row from module sql\n",
    "from pyspark.sql import SparkSession\n",
    "from pyspark import SparkContext\n",
    "from pyspark.sql.types import *\n",
    "from pyspark.conf import SparkConf\n",
    "\n",
    "#Generate Spark Session\n",
    "\n",
    "spark = SparkSession \\\n",
    "    .builder \\\n",
    "    .master(\"local[4]\")\\\n",
    "    .appName(\"CTR Example\") \\\n",
    "    .config(\"spark.executor.memory\", \"16g\") \\\n",
    "    .config(\"spark.driver.memory\", \"16g\") \\\n",
    "    .config(\"spark.driver.maxResultSize\", \"16g\") \\\n",
    "    .getOrCreate()\n",
    "\n",
    "\n",
    "#Read the training data. from csv\n",
    "df_train = spark.read.csv('train.csv', header = True, inferSchema = True, mode=\"DROPMALFORMED\")\n",
    "\n",
    "#Split the data in order to fit the memory of the local machine.\n",
    "(df_train, df_rest) = df_train.randomSplit([0.0025, 0.9975], 100000)\n",
    "\n",
    "df_train.count()"
   ]
  },
  {
   "cell_type": "code",
   "execution_count": 2,
   "metadata": {},
   "outputs": [
    {
     "name": "stdout",
     "output_type": "stream",
     "text": [
      "[('id', 'decimal(20,0)'), ('click', 'int'), ('hour', 'timestamp'), ('C1', 'int'), ('banner_pos', 'int'), ('site_id', 'string'), ('site_domain', 'string'), ('site_category', 'string'), ('app_id', 'string'), ('app_domain', 'string'), ('app_category', 'string'), ('device_id', 'string'), ('device_ip', 'string'), ('device_model', 'string'), ('device_type', 'int'), ('device_conn_type', 'int'), ('C14', 'int'), ('C15', 'int'), ('C16', 'int'), ('C17', 'int'), ('C18', 'int'), ('C19', 'int'), ('C20', 'int'), ('C21', 'int')]\n"
     ]
    }
   ],
   "source": [
    "from pyspark.sql.functions import year, month, dayofmonth\n",
    "from pyspark.sql.functions import unix_timestamp, from_unixtime\n",
    "#InferSchema predicts the date column as int, therefore there is a need to change the data type.\n",
    "\n",
    "#Convert date datatype from integer to String.\n",
    "df_train = df_train.withColumn(\"hour\", df_train[\"hour\"].cast(StringType()))\n",
    "\n",
    "#Convert date from String to TimeStamp.\n",
    "df_train = df_train.withColumn(\"hour\", unix_timestamp(\"hour\", \"yyMMddHH\").cast(TimestampType()))\n",
    "\n",
    "print(df_train.dtypes)"
   ]
  },
  {
   "cell_type": "code",
   "execution_count": 3,
   "metadata": {
    "scrolled": true
   },
   "outputs": [
    {
     "name": "stdout",
     "output_type": "stream",
     "text": [
      "defaultdict(<class 'list'>, {'DecimalType(20,0)': ['id'], 'IntegerType': ['click', 'C1', 'banner_pos', 'device_type', 'device_conn_type', 'C14', 'C15', 'C16', 'C17', 'C18', 'C19', 'C20', 'C21'], 'TimestampType': ['hour'], 'StringType': ['site_id', 'site_domain', 'site_category', 'app_id', 'app_domain', 'app_category', 'device_id', 'device_ip', 'device_model']})\n"
     ]
    }
   ],
   "source": [
    "from collections import defaultdict\n",
    "#Collect the column numbers for later operations.\n",
    "data_types = defaultdict(list)\n",
    "for entry in df_train.schema.fields:\n",
    "    data_types[str(entry.dataType)].append(entry.name)\n",
    "print(data_types)"
   ]
  },
  {
   "cell_type": "code",
   "execution_count": 4,
   "metadata": {
    "scrolled": false
   },
   "outputs": [
    {
     "name": "stdout",
     "output_type": "stream",
     "text": [
      "['device_ip', 'device_id', 'device_model', 'site_id', 'site_domain', 'app_id']\n"
     ]
    }
   ],
   "source": [
    "from pyspark.sql.functions import countDistinct, approxCountDistinct\n",
    "#Extract the string data type for datatype conversion string-->numeric\n",
    "\n",
    "counts_summary = df_train.agg(*[countDistinct(c).alias(c) for c in data_types[\"StringType\"]])\n",
    "counts_summary = counts_summary.toPandas()\n",
    "import pandas as pd\n",
    "counts = pd.Series(counts_summary.values.ravel())\n",
    "counts.index = counts_summary.columns\n",
    "\n",
    "#Ignore the columns that passed the hardcoded threshold in order to relax the hardware overloading problem and \n",
    "#to fasten the overall progress.\n",
    "\n",
    "sorted_vars = counts.sort_values(ascending = False)\n",
    "ignore = list((sorted_vars[sorted_vars >1000]).index)\n",
    "\n",
    "#Print the ignored colums\n",
    "print(ignore)"
   ]
  },
  {
   "cell_type": "code",
   "execution_count": 5,
   "metadata": {},
   "outputs": [],
   "source": [
    "#Use built-in imputer for the double type features to fill mising data.\n",
    "numericals = data_types[\"DoubleType\"]\n",
    "numericals = [var for var in numericals if var not in ignore]\n",
    "numericals_imputed = [var + \"_imputed\" for var in numericals]\n",
    "\n",
    "from pyspark.ml.feature import Imputer\n",
    "\n",
    "imputer = Imputer(inputCols = numericals, outputCols = numericals_imputed)\n",
    "df_train = imputer.fit(df_train).transform(df_train)"
   ]
  },
  {
   "cell_type": "code",
   "execution_count": 6,
   "metadata": {},
   "outputs": [],
   "source": [
    "#Cast the integer type values to double to use Imputer function again to fill missing data.\n",
    "for c in data_types[\"IntegerType\"]:\n",
    "    if c != \"click\":\n",
    "        df_train = df_train.withColumn(c+ \"_cast_to_double\", df_train[c].cast(\"double\"))\n",
    "cast_vars = [var for var in  df_train.columns if var.endswith(\"_cast_to_double\")]\n",
    "cast_vars_imputed  = [var+ \"imputed\" for var in cast_vars]\n",
    "\n",
    "imputer_for_cast_vars = Imputer(inputCols = cast_vars, outputCols = cast_vars_imputed)\n",
    "df_train = imputer_for_cast_vars.fit(df_train).transform(df_train)\n",
    "#df_train.show()"
   ]
  },
  {
   "cell_type": "code",
   "execution_count": 7,
   "metadata": {},
   "outputs": [
    {
     "name": "stdout",
     "output_type": "stream",
     "text": [
      "['site_category', 'app_domain', 'app_category']\n"
     ]
    }
   ],
   "source": [
    "#Find and replace missing data in case of existance for string type.\n",
    "strings_used = [var for var in data_types[\"StringType\"] if var not in ignore]\n",
    "print(strings_used)\n",
    "missing_data_fill = {}\n",
    "for var in strings_used:\n",
    "    missing_data_fill[var] = \"missing\"\n",
    "\n",
    "df_train = df_train.fillna(missing_data_fill)"
   ]
  },
  {
   "cell_type": "code",
   "execution_count": 8,
   "metadata": {
    "scrolled": true
   },
   "outputs": [],
   "source": [
    "from pyspark.ml import Pipeline\n",
    "from pyspark.ml.feature import OneHotEncoder, StringIndexer\n",
    "#Use one-hot encoding method to convert string values in to numeric values.\n",
    "stage_string = [StringIndexer(inputCol= c, outputCol= c+\"_string_encoded\") for c in strings_used]\n",
    "stage_one_hot = [OneHotEncoder(inputCol= c+\"_string_encoded\", outputCol= c+\"_one_hot\") for c in strings_used]\n",
    "\n",
    "ppl = Pipeline(stages= stage_string + stage_one_hot)\n",
    "df_train = ppl.fit(df_train).transform(df_train)"
   ]
  },
  {
   "cell_type": "code",
   "execution_count": 9,
   "metadata": {
    "scrolled": true
   },
   "outputs": [
    {
     "name": "stdout",
     "output_type": "stream",
     "text": [
      "+----------------+-----+-------------------+----+----------+--------+-----------+-------------+--------+----------+------------+---------+---------+------------+-----------+----------------+-----+---+---+----+---+---+---+---+-----------------+-------------------------+--------------------------+-------------------------------+------------------+------------------+------------------+------------------+------------------+------------------+------------------+------------------+--------------------------------------+-------------------------+-------------------------+--------------------------------+------------------------+---------------------------------+-------------------------+-------------------------+-------------------------+-------------------------+-------------------------+-------------------------+----------------------------+-------------------------+---------------------------+---------------------+------------------+--------------------+--------------------+\n",
      "|              id|click|               hour|  C1|banner_pos| site_id|site_domain|site_category|  app_id|app_domain|app_category|device_id|device_ip|device_model|device_type|device_conn_type|  C14|C15|C16| C17|C18|C19|C20|C21|C1_cast_to_double|banner_pos_cast_to_double|device_type_cast_to_double|device_conn_type_cast_to_double|C14_cast_to_double|C15_cast_to_double|C16_cast_to_double|C17_cast_to_double|C18_cast_to_double|C19_cast_to_double|C20_cast_to_double|C21_cast_to_double|device_conn_type_cast_to_doubleimputed|C18_cast_to_doubleimputed|C17_cast_to_doubleimputed|banner_pos_cast_to_doubleimputed|C1_cast_to_doubleimputed|device_type_cast_to_doubleimputed|C19_cast_to_doubleimputed|C20_cast_to_doubleimputed|C16_cast_to_doubleimputed|C14_cast_to_doubleimputed|C15_cast_to_doubleimputed|C21_cast_to_doubleimputed|site_category_string_encoded|app_domain_string_encoded|app_category_string_encoded|site_category_one_hot|app_domain_one_hot|app_category_one_hot|            features|\n",
      "+----------------+-----+-------------------+----+----------+--------+-----------+-------------+--------+----------+------------+---------+---------+------------+-----------+----------------+-----+---+---+----+---+---+---+---+-----------------+-------------------------+--------------------------+-------------------------------+------------------+------------------+------------------+------------------+------------------+------------------+------------------+------------------+--------------------------------------+-------------------------+-------------------------+--------------------------------+------------------------+---------------------------------+-------------------------+-------------------------+-------------------------+-------------------------+-------------------------+-------------------------+----------------------------+-------------------------+---------------------------+---------------------+------------------+--------------------+--------------------+\n",
      "|4293455261245396|    0|2014-10-21 02:00:00|1005|         0|97e9a81f|   cf1f06c3|     335d28a8|ecad2386|  7801e8d9|    07d7df22| a99f214a| b7360488|    d787e91b|          1|               0|21647|320| 50|2487|  1|547| -1| 51|           1005.0|                      0.0|                       1.0|                            0.0|           21647.0|             320.0|              50.0|            2487.0|               1.0|             547.0|              -1.0|              51.0|                                   0.0|                      1.0|                   2487.0|                             0.0|                  1005.0|                              1.0|                    547.0|                     -1.0|                     50.0|                  21647.0|                    320.0|                     51.0|                         6.0|                      0.0|                        0.0|       (18,[6],[1.0])|    (90,[0],[1.0])|      (20,[0],[1.0])|(140,[0,2,4,5,6,7...|\n",
      "+----------------+-----+-------------------+----+----------+--------+-----------+-------------+--------+----------+------------+---------+---------+------------+-----------+----------------+-----+---+---+----+---+---+---+---+-----------------+-------------------------+--------------------------+-------------------------------+------------------+------------------+------------------+------------------+------------------+------------------+------------------+------------------+--------------------------------------+-------------------------+-------------------------+--------------------------------+------------------------+---------------------------------+-------------------------+-------------------------+-------------------------+-------------------------+-------------------------+-------------------------+----------------------------+-------------------------+---------------------------+---------------------+------------------+--------------------+--------------------+\n",
      "only showing top 1 row\n",
      "\n"
     ]
    }
   ],
   "source": [
    "#Assemble all of the features in to one column called 'features' for further.\n",
    "from pyspark.ml.feature import VectorAssembler\n",
    "features = cast_vars_imputed + numericals_imputed \\\n",
    "              + [var + \"_one_hot\" for var in strings_used]\n",
    "\n",
    "vector_assembler = VectorAssembler(inputCols = features, outputCol= \"features\")\n",
    "data_training_and_test = vector_assembler.transform(df_train)\n",
    "data_training_and_test.show(1)"
   ]
  },
  {
   "cell_type": "code",
   "execution_count": 10,
   "metadata": {},
   "outputs": [
    {
     "name": "stdout",
     "output_type": "stream",
     "text": [
      "+------------------+-----+-------------------+----+----------+--------+-----------+-------------+--------+----------+------------+---------+---------+------------+-----------+----------------+-----+---+---+----+---+---+------+---+-----------------+-------------------------+--------------------------+-------------------------------+------------------+------------------+------------------+------------------+------------------+------------------+------------------+------------------+--------------------------------------+-------------------------+-------------------------+--------------------------------+------------------------+---------------------------------+-------------------------+-------------------------+-------------------------+-------------------------+-------------------------+-------------------------+----------------------------+-------------------------+---------------------------+---------------------+------------------+--------------------+--------------------+--------------------+\n",
      "|                id|click|               hour|  C1|banner_pos| site_id|site_domain|site_category|  app_id|app_domain|app_category|device_id|device_ip|device_model|device_type|device_conn_type|  C14|C15|C16| C17|C18|C19|   C20|C21|C1_cast_to_double|banner_pos_cast_to_double|device_type_cast_to_double|device_conn_type_cast_to_double|C14_cast_to_double|C15_cast_to_double|C16_cast_to_double|C17_cast_to_double|C18_cast_to_double|C19_cast_to_double|C20_cast_to_double|C21_cast_to_double|device_conn_type_cast_to_doubleimputed|C18_cast_to_doubleimputed|C17_cast_to_doubleimputed|banner_pos_cast_to_doubleimputed|C1_cast_to_doubleimputed|device_type_cast_to_doubleimputed|C19_cast_to_doubleimputed|C20_cast_to_doubleimputed|C16_cast_to_doubleimputed|C14_cast_to_doubleimputed|C15_cast_to_doubleimputed|C21_cast_to_doubleimputed|site_category_string_encoded|app_domain_string_encoded|app_category_string_encoded|site_category_one_hot|app_domain_one_hot|app_category_one_hot|            features|        pca_features|\n",
      "+------------------+-----+-------------------+----+----------+--------+-----------+-------------+--------+----------+------------+---------+---------+------------+-----------+----------------+-----+---+---+----+---+---+------+---+-----------------+-------------------------+--------------------------+-------------------------------+------------------+------------------+------------------+------------------+------------------+------------------+------------------+------------------+--------------------------------------+-------------------------+-------------------------+--------------------------------+------------------------+---------------------------------+-------------------------+-------------------------+-------------------------+-------------------------+-------------------------+-------------------------+----------------------------+-------------------------+---------------------------+---------------------+------------------+--------------------+--------------------+--------------------+\n",
      "|  4293455261245396|    0|2014-10-21 02:00:00|1005|         0|97e9a81f|   cf1f06c3|     335d28a8|ecad2386|  7801e8d9|    07d7df22| a99f214a| b7360488|    d787e91b|          1|               0|21647|320| 50|2487|  1|547|    -1| 51|           1005.0|                      0.0|                       1.0|                            0.0|           21647.0|             320.0|              50.0|            2487.0|               1.0|             547.0|              -1.0|              51.0|                                   0.0|                      1.0|                   2487.0|                             0.0|                  1005.0|                              1.0|                    547.0|                     -1.0|                     50.0|                  21647.0|                    320.0|                     51.0|                         6.0|                      0.0|                        0.0|       (18,[6],[1.0])|    (90,[0],[1.0])|      (20,[0],[1.0])|(140,[0,2,4,5,6,7...|[44.3673918538915...|\n",
      "| 16998172670884976|    1|2014-10-21 04:00:00|1005|         0|85f751fd|   c4e18dd6|     50e219e0|9c13b419|  2347f47a|    f95efa07| a99f214a| 56305c08|    7abbbd5c|          1|               0|19251|320| 50|2201|  3| 35|100173| 43|           1005.0|                      0.0|                       1.0|                            0.0|           19251.0|             320.0|              50.0|            2201.0|               3.0|              35.0|          100173.0|              43.0|                                   0.0|                      3.0|                   2201.0|                             0.0|                  1005.0|                              1.0|                     35.0|                 100173.0|                     50.0|                  19251.0|                    320.0|                     43.0|                         0.0|                      1.0|                        4.0|       (18,[0],[1.0])|    (90,[1],[1.0])|      (20,[4],[1.0])|(140,[0,2,4,5,6,7...|[100212.836177169...|\n",
      "| 36019989377386381|    1|2014-10-21 02:00:00|1005|         0|1fbe01fe|   f3845767|     28905ebd|ecad2386|  7801e8d9|    07d7df22| a99f214a| c012b6ab|    36d749e5|          1|               0|15701|320| 50|1722|  0| 35|    -1| 79|           1005.0|                      0.0|                       1.0|                            0.0|           15701.0|             320.0|              50.0|            1722.0|               0.0|              35.0|              -1.0|              79.0|                                   0.0|                      0.0|                   1722.0|                             0.0|                  1005.0|                              1.0|                     35.0|                     -1.0|                     50.0|                  15701.0|                    320.0|                     79.0|                         2.0|                      0.0|                        0.0|       (18,[2],[1.0])|    (90,[0],[1.0])|      (20,[0],[1.0])|(140,[0,2,4,5,6,7...|[31.6762407522626...|\n",
      "| 46397366418478277|    0|2014-10-21 01:00:00|1005|         0|cd58172f|   b9c4ab81|     f028772b|ecad2386|  7801e8d9|    07d7df22| a99f214a| e89da4b2|    2e0de5da|          1|               2|18993|320| 50|2161|  0| 35|    -1|157|           1005.0|                      0.0|                       1.0|                            2.0|           18993.0|             320.0|              50.0|            2161.0|               0.0|              35.0|              -1.0|             157.0|                                   2.0|                      0.0|                   2161.0|                             0.0|                  1005.0|                              1.0|                     35.0|                     -1.0|                     50.0|                  18993.0|                    320.0|                    157.0|                         1.0|                      0.0|                        0.0|       (18,[1],[1.0])|    (90,[0],[1.0])|      (20,[0],[1.0])|(140,[0,2,3,4,5,6...|[38.5264488075793...|\n",
      "| 57641767410712441|    1|2014-10-21 04:00:00|1005|         0|1c3a1b95|   2d235ae0|     f028772b|ecad2386|  7801e8d9|    07d7df22| a99f214a| f160b070|    235bcfc1|          1|               0|20003|320| 50|2282|  3| 35|100061|117|           1005.0|                      0.0|                       1.0|                            0.0|           20003.0|             320.0|              50.0|            2282.0|               3.0|              35.0|          100061.0|             117.0|                                   0.0|                      3.0|                   2282.0|                             0.0|                  1005.0|                              1.0|                     35.0|                 100061.0|                     50.0|                  20003.0|                    320.0|                    117.0|                         1.0|                      0.0|                        0.0|       (18,[1],[1.0])|    (90,[0],[1.0])|      (20,[0],[1.0])|(140,[0,2,4,5,6,7...|[100102.396665387...|\n",
      "|106850577701363187|    0|2014-10-21 03:00:00|1005|         0|85f751fd|   c4e18dd6|     50e219e0|0a3b4a58|  d9b5648e|    0f2161f8| a99f214a| 9ca71fe8|    f4fffcd0|          1|               0|21611|320| 50|2480|  3|299|100111| 61|           1005.0|                      0.0|                       1.0|                            0.0|           21611.0|             320.0|              50.0|            2480.0|               3.0|             299.0|          100111.0|              61.0|                                   0.0|                      3.0|                   2480.0|                             0.0|                  1005.0|                              1.0|                    299.0|                 100111.0|                     50.0|                  21611.0|                    320.0|                     61.0|                         0.0|                      5.0|                        1.0|       (18,[0],[1.0])|    (90,[5],[1.0])|      (20,[1],[1.0])|(140,[0,2,4,5,6,7...|[100155.906921194...|\n",
      "|108285535567074862|    0|2014-10-21 02:00:00|1005|         0|030440fe|   08ba7db9|     76b2941d|ecad2386|  7801e8d9|    07d7df22| a99f214a| 9440847e|    78d9bd10|          1|               0|20596|320| 50|2161|  0| 35|    -1|157|           1005.0|                      0.0|                       1.0|                            0.0|           20596.0|             320.0|              50.0|            2161.0|               0.0|              35.0|              -1.0|             157.0|                                   0.0|                      0.0|                   2161.0|                             0.0|                  1005.0|                              1.0|                     35.0|                     -1.0|                     50.0|                  20596.0|                    320.0|                    157.0|                         7.0|                      0.0|                        0.0|       (18,[7],[1.0])|    (90,[0],[1.0])|      (20,[0],[1.0])|(140,[0,2,4,5,6,7...|[41.8461843022151...|\n",
      "|109707461082798308|    0|2014-10-21 00:00:00|1005|         0|9b124c1e|   db7a8013|     f028772b|ecad2386|  7801e8d9|    07d7df22| a99f214a| bedab2f7|    1f0bc64f|          1|               0|20596|320| 50|2161|  0| 35|    -1|157|           1005.0|                      0.0|                       1.0|                            0.0|           20596.0|             320.0|              50.0|            2161.0|               0.0|              35.0|              -1.0|             157.0|                                   0.0|                      0.0|                   2161.0|                             0.0|                  1005.0|                              1.0|                     35.0|                     -1.0|                     50.0|                  20596.0|                    320.0|                    157.0|                         1.0|                      0.0|                        0.0|       (18,[1],[1.0])|    (90,[0],[1.0])|      (20,[0],[1.0])|(140,[0,2,4,5,6,7...|[41.8461850050611...|\n",
      "|111471907085019489|    0|2014-10-21 02:00:00|1005|         0|85f751fd|   c4e18dd6|     50e219e0|45aff1a2|  5c620f04|    d1327cf5| e57ad85a| 3034b569|    d4897fef|          1|               0|19251|320| 50|2201|  3| 35|    -1| 43|           1005.0|                      0.0|                       1.0|                            0.0|           19251.0|             320.0|              50.0|            2201.0|               3.0|              35.0|              -1.0|              43.0|                                   0.0|                      3.0|                   2201.0|                             0.0|                  1005.0|                              1.0|                     35.0|                     -1.0|                     50.0|                  19251.0|                    320.0|                     43.0|                         0.0|                     14.0|                        5.0|       (18,[0],[1.0])|   (90,[14],[1.0])|      (20,[5],[1.0])|(140,[0,2,4,5,6,7...|[39.0701262107060...|\n",
      "|113387018539377844|    0|2014-10-21 03:00:00|1005|         0|9b124c1e|   db7a8013|     f028772b|ecad2386|  7801e8d9|    07d7df22| a99f214a| ae13299f|    8a4875bd|          1|               0|20596|320| 50|2161|  0| 35|    -1|157|           1005.0|                      0.0|                       1.0|                            0.0|           20596.0|             320.0|              50.0|            2161.0|               0.0|              35.0|              -1.0|             157.0|                                   0.0|                      0.0|                   2161.0|                             0.0|                  1005.0|                              1.0|                     35.0|                     -1.0|                     50.0|                  20596.0|                    320.0|                    157.0|                         1.0|                      0.0|                        0.0|       (18,[1],[1.0])|    (90,[0],[1.0])|      (20,[0],[1.0])|(140,[0,2,4,5,6,7...|[41.8461850050611...|\n",
      "|114351892638584466|    0|2014-10-21 04:00:00|1005|         1|e151e245|   7e091613|     f028772b|ecad2386|  7801e8d9|    07d7df22| a99f214a| dc5d81b9|    04f5b394|          1|               0|17264|320| 50|1872|  3| 39|100130| 23|           1005.0|                      1.0|                       1.0|                            0.0|           17264.0|             320.0|              50.0|            1872.0|               3.0|              39.0|          100130.0|              23.0|                                   0.0|                      3.0|                   1872.0|                             1.0|                  1005.0|                              1.0|                     39.0|                 100130.0|                     50.0|                  17264.0|                    320.0|                     23.0|                         1.0|                      0.0|                        0.0|       (18,[1],[1.0])|    (90,[0],[1.0])|      (20,[0],[1.0])|(140,[0,1,2,4,5,6...|[100165.697247582...|\n",
      "|122730012689797621|    0|2014-10-21 02:00:00|1005|         0|85f751fd|   c4e18dd6|     50e219e0|d33d55c4|  d9b5648e|    0f2161f8| a99f214a| ae48e733|    aad45b01|          1|               0|21234|320| 50|2434|  3|163|100087| 61|           1005.0|                      0.0|                       1.0|                            0.0|           21234.0|             320.0|              50.0|            2434.0|               3.0|             163.0|          100087.0|              61.0|                                   0.0|                      3.0|                   2434.0|                             0.0|                  1005.0|                              1.0|                    163.0|                 100087.0|                     50.0|                  21234.0|                    320.0|                     61.0|                         0.0|                      5.0|                        1.0|       (18,[0],[1.0])|    (90,[5],[1.0])|      (20,[1],[1.0])|(140,[0,2,4,5,6,7...|[100131.039569691...|\n",
      "|123631804011235335|    1|2014-10-21 01:00:00|1005|         0|85f751fd|   c4e18dd6|     50e219e0|e96166c7|  2347f47a|    0f2161f8| eef23628| 9fbe4c96|    84ebbcd4|          1|               0|18934|320| 50|1926|  2| 39|    -1| 13|           1005.0|                      0.0|                       1.0|                            0.0|           18934.0|             320.0|              50.0|            1926.0|               2.0|              39.0|              -1.0|              13.0|                                   0.0|                      2.0|                   1926.0|                             0.0|                  1005.0|                              1.0|                     39.0|                     -1.0|                     50.0|                  18934.0|                    320.0|                     13.0|                         0.0|                      1.0|                        1.0|       (18,[0],[1.0])|    (90,[1],[1.0])|      (20,[1],[1.0])|(140,[0,2,4,5,6,7...|[38.3946369155211...|\n",
      "|128403991057645864|    0|2014-10-21 02:00:00|1005|         0|cd58172f|   b9c4ab81|     f028772b|ecad2386|  7801e8d9|    07d7df22| a99f214a| c5554235|    fce66524|          1|               0|21647|320| 50|2487|  1|547|100013| 51|           1005.0|                      0.0|                       1.0|                            0.0|           21647.0|             320.0|              50.0|            2487.0|               1.0|             547.0|          100013.0|              51.0|                                   0.0|                      1.0|                   2487.0|                             0.0|                  1005.0|                              1.0|                    547.0|                 100013.0|                     50.0|                  21647.0|                    320.0|                     51.0|                         1.0|                      0.0|                        0.0|       (18,[1],[1.0])|    (90,[0],[1.0])|      (20,[0],[1.0])|(140,[0,2,4,5,6,7...|[100058.133818224...|\n",
      "|129812239422122401|    1|2014-10-21 03:00:00|1005|         0|1fbe01fe|   f3845767|     28905ebd|ecad2386|  7801e8d9|    07d7df22| a99f214a| 6b9769f2|    2203a096|          1|               0|15702|320| 50|1722|  0| 35|    -1| 79|           1005.0|                      0.0|                       1.0|                            0.0|           15702.0|             320.0|              50.0|            1722.0|               0.0|              35.0|              -1.0|              79.0|                                   0.0|                      0.0|                   1722.0|                             0.0|                  1005.0|                              1.0|                     35.0|                     -1.0|                     50.0|                  15702.0|                    320.0|                     79.0|                         2.0|                      0.0|                        0.0|       (18,[2],[1.0])|    (90,[0],[1.0])|      (20,[0],[1.0])|(140,[0,2,4,5,6,7...|[31.6783117062417...|\n",
      "|149432163130396414|    1|2014-10-21 01:00:00|1005|         0|85f751fd|   c4e18dd6|     50e219e0|e2fcccd2|  5c5a694b|    0f2161f8| 562b51de| 2ce97ed8|    c1a17447|          1|               0|19251|320| 50|2201|  3| 35|    -1| 43|           1005.0|                      0.0|                       1.0|                            0.0|           19251.0|             320.0|              50.0|            2201.0|               3.0|              35.0|              -1.0|              43.0|                                   0.0|                      3.0|                   2201.0|                             0.0|                  1005.0|                              1.0|                     35.0|                     -1.0|                     50.0|                  19251.0|                    320.0|                     43.0|                         0.0|                      3.0|                        1.0|       (18,[0],[1.0])|    (90,[3],[1.0])|      (20,[1],[1.0])|(140,[0,2,4,5,6,7...|[39.0701270873002...|\n",
      "|149461766595415268|    0|2014-10-21 03:00:00|1005|         1|3af745f2|   11582ac8|     3e814130|ecad2386|  7801e8d9|    07d7df22| a99f214a| e7f158e2|    8b1aa260|          1|               0|18993|320| 50|2161|  0| 35|100034|157|           1005.0|                      1.0|                       1.0|                            0.0|           18993.0|             320.0|              50.0|            2161.0|               0.0|              35.0|          100034.0|             157.0|                                   0.0|                      0.0|                   2161.0|                             1.0|                  1005.0|                              1.0|                     35.0|                 100034.0|                     50.0|                  18993.0|                    320.0|                    157.0|                         3.0|                      0.0|                        0.0|       (18,[3],[1.0])|    (90,[0],[1.0])|      (20,[0],[1.0])|(140,[0,1,2,4,5,6...|[100073.292822267...|\n",
      "|159136537643533378|    0|2014-10-21 04:00:00|1010|         1|85f751fd|   c4e18dd6|     50e219e0|ffc6ffd0|  7801e8d9|    0f2161f8| b406728e| 3dd7a5ef|    f07e20f8|          4|               0|21665|320| 50|2493|  3| 35|    -1|117|           1010.0|                      1.0|                       4.0|                            0.0|           21665.0|             320.0|              50.0|            2493.0|               3.0|              35.0|              -1.0|             117.0|                                   0.0|                      3.0|                   2493.0|                             1.0|                  1010.0|                              4.0|                     35.0|                     -1.0|                     50.0|                  21665.0|                    320.0|                    117.0|                         0.0|                      0.0|                        1.0|       (18,[0],[1.0])|    (90,[0],[1.0])|      (20,[1],[1.0])|(140,[0,1,2,4,5,6...|[44.0899351558408...|\n",
      "|160789077207213516|    1|2014-10-21 03:00:00|1005|         0|9a977531|   a434fa42|     f028772b|ecad2386|  7801e8d9|    07d7df22| a99f214a| 52858d7f|    76dc4769|          1|               0|19950|320| 50|1800|  3|167|    -1| 23|           1005.0|                      0.0|                       1.0|                            0.0|           19950.0|             320.0|              50.0|            1800.0|               3.0|             167.0|              -1.0|              23.0|                                   0.0|                      3.0|                   1800.0|                             0.0|                  1005.0|                              1.0|                    167.0|                     -1.0|                     50.0|                  19950.0|                    320.0|                     23.0|                         1.0|                      0.0|                        0.0|       (18,[1],[1.0])|    (90,[0],[1.0])|      (20,[0],[1.0])|(140,[0,2,4,5,6,7...|[40.5655871146152...|\n",
      "|171084752502096076|    0|2014-10-21 04:00:00|1012|         0|c21df24f|   c4e18dd6|     f028772b|ecad2386|  7801e8d9|    07d7df22| a99f214a| 37dab229|    63350c8a|          1|               0|21612|320| 50|2481|  3|297|100111| 61|           1012.0|                      0.0|                       1.0|                            0.0|           21612.0|             320.0|              50.0|            2481.0|               3.0|             297.0|          100111.0|              61.0|                                   0.0|                      3.0|                   2481.0|                             0.0|                  1012.0|                              1.0|                    297.0|                 100111.0|                     50.0|                  21612.0|                    320.0|                     61.0|                         1.0|                      0.0|                        0.0|       (18,[1],[1.0])|    (90,[0],[1.0])|      (20,[0],[1.0])|(140,[0,2,4,5,6,7...|[100155.907851109...|\n",
      "+------------------+-----+-------------------+----+----------+--------+-----------+-------------+--------+----------+------------+---------+---------+------------+-----------+----------------+-----+---+---+----+---+---+------+---+-----------------+-------------------------+--------------------------+-------------------------------+------------------+------------------+------------------+------------------+------------------+------------------+------------------+------------------+--------------------------------------+-------------------------+-------------------------+--------------------------------+------------------------+---------------------------------+-------------------------+-------------------------+-------------------------+-------------------------+-------------------------+-------------------------+----------------------------+-------------------------+---------------------------+---------------------+------------------+--------------------+--------------------+--------------------+\n",
      "only showing top 20 rows\n",
      "\n"
     ]
    }
   ],
   "source": [
    "#Now, use PCA to make dimension reduction and have the best 'k' variances.\n",
    "from pyspark.ml.feature import PCA\n",
    "\n",
    "pca_model = PCA(k = 10,inputCol = \"features\", outputCol = \"pca_features\")\n",
    "model = pca_model.fit(data_training_and_test)\n",
    "data_training_and_test = model.transform(data_training_and_test)\n",
    "data_training_and_test.show()"
   ]
  },
  {
   "cell_type": "code",
   "execution_count": 11,
   "metadata": {},
   "outputs": [
    {
     "name": "stdout",
     "output_type": "stream",
     "text": [
      "Test Error Before Cross Validation = 0.3705399467631496\n"
     ]
    }
   ],
   "source": [
    "from pyspark.ml.classification import RandomForestClassifier\n",
    "from pyspark.ml.evaluation import BinaryClassificationEvaluator\n",
    "#Test the data with a Random Forest Classifier to see the accuracy result.\n",
    "(training_data, test_data) = data_training_and_test.randomSplit([0.7, 0.3], 35000)\n",
    "rf = RandomForestClassifier(labelCol = \"click\", featuresCol = \"features\", numTrees = 20)\n",
    "rf_model_predictions = rf.fit(training_data).transform(test_data)\n",
    "evaluator= BinaryClassificationEvaluator(labelCol = \"click\", rawPredictionCol=\"probability\", metricName= \"areaUnderROC\")\n",
    "accuracy = evaluator.evaluate(rf_model_predictions)\n",
    "print(\"Test Error Before Cross Validation = \" + str(1.0 - accuracy))"
   ]
  },
  {
   "cell_type": "code",
   "execution_count": 12,
   "metadata": {},
   "outputs": [],
   "source": [
    "from pyspark.ml.tuning import CrossValidator, ParamGridBuilder\n",
    "from pyspark.ml.evaluation import BinaryClassificationEvaluator as BCE\n",
    "#Now use cross validation for hyper-parameter tuning to see the best results.\n",
    "pca_model = PCA(inputCol = \"features\", outputCol = \"pca_features_cv\")\n",
    "rf = RandomForestClassifier(labelCol = \"click\", featuresCol = \"features\")\n",
    "ppl_cv = Pipeline(stages = [pca_model, rf])\n",
    "\n",
    "paramGrid = ParamGridBuilder() \\\n",
    "      .addGrid(pca_model.k, [5, 10, 15, 20, 25]) \\\n",
    "      .addGrid(rf.numTrees, [20, 30, 50]) \\\n",
    "      .build()\n",
    "\n",
    "crossval = CrossValidator(estimator = ppl_cv,\n",
    "                            estimatorParamMaps=paramGrid,\n",
    "                            evaluator = BCE(labelCol = \"click\",\\\n",
    "                                            rawPredictionCol = \"probability\",\\\n",
    "                                            metricName = \"areaUnderROC\"),\n",
    "                            numFolds= 3)\n",
    "\n",
    "cv_model = crossval.fit(training_data)"
   ]
  },
  {
   "cell_type": "code",
   "execution_count": 13,
   "metadata": {},
   "outputs": [
    {
     "name": "stdout",
     "output_type": "stream",
     "text": [
      "Test Error After Cross Validation = 0.37073930085588924\n"
     ]
    }
   ],
   "source": [
    "from pyspark.ml.evaluation import BinaryClassificationEvaluator\n",
    "predictions = cv_model.transform(test_data)\n",
    "#Finally Evaluate the results with a probabilistic prediction approach and use ROC as the metric.\n",
    "evaluator= BinaryClassificationEvaluator(labelCol = \"click\", rawPredictionCol=\"probability\", metricName= \"areaUnderROC\")\n",
    "accuracy = evaluator.evaluate(predictions)\n",
    "print(\"Test Error After Cross Validation = \" + str(1.0 - accuracy))"
   ]
  },
  {
   "cell_type": "code",
   "execution_count": null,
   "metadata": {},
   "outputs": [],
   "source": []
  }
 ],
 "metadata": {
  "kernelspec": {
   "display_name": "Python 3",
   "language": "python",
   "name": "python3"
  },
  "language_info": {
   "codemirror_mode": {
    "name": "ipython",
    "version": 3
   },
   "file_extension": ".py",
   "mimetype": "text/x-python",
   "name": "python",
   "nbconvert_exporter": "python",
   "pygments_lexer": "ipython3",
   "version": "3.6.8"
  }
 },
 "nbformat": 4,
 "nbformat_minor": 2
}
